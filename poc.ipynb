{
 "cells": [
  {
   "cell_type": "code",
   "execution_count": 11,
   "id": "ac2a76ca-ed3c-4391-8dcc-a7cb900fe66a",
   "metadata": {
    "tags": []
   },
   "outputs": [],
   "source": [
    "import numpy as np\n",
    "import pandas as pd"
   ]
  },
  {
   "cell_type": "code",
   "execution_count": 3,
   "id": "cceee0c4-8f5a-47a2-9d33-cab8acb0e16c",
   "metadata": {
    "tags": []
   },
   "outputs": [],
   "source": [
    "df = pd.read_json(\"/home/peeranat/datasets/archive/relevant_articles.json\")"
   ]
  },
  {
   "cell_type": "code",
   "execution_count": 4,
   "id": "14987a82-3b58-4fde-ad56-ebfde841fca6",
   "metadata": {
    "tags": []
   },
   "outputs": [
    {
     "data": {
      "text/html": [
       "<div>\n",
       "<style scoped>\n",
       "    .dataframe tbody tr th:only-of-type {\n",
       "        vertical-align: middle;\n",
       "    }\n",
       "\n",
       "    .dataframe tbody tr th {\n",
       "        vertical-align: top;\n",
       "    }\n",
       "\n",
       "    .dataframe thead th {\n",
       "        text-align: right;\n",
       "    }\n",
       "</style>\n",
       "<table border=\"1\" class=\"dataframe\">\n",
       "  <thead>\n",
       "    <tr style=\"text-align: right;\">\n",
       "      <th></th>\n",
       "      <th>_id</th>\n",
       "      <th>url</th>\n",
       "      <th>title</th>\n",
       "      <th>feed</th>\n",
       "      <th>type</th>\n",
       "      <th>pub</th>\n",
       "      <th>ret</th>\n",
       "      <th>lang</th>\n",
       "      <th>refs</th>\n",
       "      <th>sum</th>\n",
       "      <th>body</th>\n",
       "      <th>text</th>\n",
       "      <th>auth</th>\n",
       "    </tr>\n",
       "  </thead>\n",
       "  <tbody>\n",
       "    <tr>\n",
       "      <th>0</th>\n",
       "      <td>197727</td>\n",
       "      <td>http://www.theguardian.com/housing-network/201...</td>\n",
       "      <td>Five steps to fixing the UK housing crisis in ...</td>\n",
       "      <td>guardian</td>\n",
       "      <td>politics</td>\n",
       "      <td>{'$date': '2016-01-01T09:12:27.000+0000'}</td>\n",
       "      <td>{'$date': '2016-01-01T09:27:32.000+0000'}</td>\n",
       "      <td>en</td>\n",
       "      <td>[http://www.theguardian.com/commentisfree/2015...</td>\n",
       "      <td>Headlines about the utter madness of our housi...</td>\n",
       "      <td>Perhaps in years to come 2015 will be remember...</td>\n",
       "      <td>Headlines about the utter madness of our housi...</td>\n",
       "      <td>NaN</td>\n",
       "    </tr>\n",
       "    <tr>\n",
       "      <th>1</th>\n",
       "      <td>197728</td>\n",
       "      <td>http://www.theguardian.com/commentisfree/2016/...</td>\n",
       "      <td>That’s enough assessments of 2015. It’s time t...</td>\n",
       "      <td>guardian</td>\n",
       "      <td>politics</td>\n",
       "      <td>{'$date': '2016-01-01T09:37:06.000+0000'}</td>\n",
       "      <td>{'$date': '2016-01-01T09:47:42.000+0000'}</td>\n",
       "      <td>en</td>\n",
       "      <td>[http://www.theguardian.com/business/davos, ht...</td>\n",
       "      <td>From Strictly Come Dancing featuring Vladimir ...</td>\n",
       "      <td>• Jeremy Corbyn turns down invitation to atten...</td>\n",
       "      <td>From Strictly Come Dancing featuring Vladimir ...</td>\n",
       "      <td>NaN</td>\n",
       "    </tr>\n",
       "    <tr>\n",
       "      <th>2</th>\n",
       "      <td>197995</td>\n",
       "      <td>http://www.theguardian.com/politics/2016/jan/0...</td>\n",
       "      <td>The paperback memoirs of Miss Rice-Davies : ar...</td>\n",
       "      <td>guardian</td>\n",
       "      <td>politics</td>\n",
       "      <td>{'$date': '2016-01-01T05:00:22.000+0000'}</td>\n",
       "      <td>{'$date': '2016-01-01T22:59:09.000+0000'}</td>\n",
       "      <td>en</td>\n",
       "      <td>[http://www.theguardian.com/politics/2014/dec/...</td>\n",
       "      <td>1 January 1964 : The Mandy Report turns out to...</td>\n",
       "      <td>Miss Mandy Rice-Davies, one of 1963’s better k...</td>\n",
       "      <td>1 January 1964 : The Mandy Report turns out to...</td>\n",
       "      <td>NaN</td>\n",
       "    </tr>\n",
       "    <tr>\n",
       "      <th>3</th>\n",
       "      <td>198038</td>\n",
       "      <td>http://www.bbc.co.uk/news/uk-scotland-35210821...</td>\n",
       "      <td>'Very drunk' patient numbers revealed</td>\n",
       "      <td>bbc</td>\n",
       "      <td>politics</td>\n",
       "      <td>{'$date': '2016-01-02T00:42:46.000+0000'}</td>\n",
       "      <td>{'$date': '2016-01-02T00:45:47.000+0000'}</td>\n",
       "      <td>en</td>\n",
       "      <td>[http://www.bbc.co.uk/news/uk-scotland-35097230]</td>\n",
       "      <td>Ambulances attend more than 60 incidents on av...</td>\n",
       "      <td>Paramedics treated about 12,000 people who wer...</td>\n",
       "      <td>Ambulances attend more than 60 incidents on av...</td>\n",
       "      <td>NaN</td>\n",
       "    </tr>\n",
       "    <tr>\n",
       "      <th>4</th>\n",
       "      <td>198046</td>\n",
       "      <td>http://www.bbc.co.uk/news/uk-35212696#sa-ns_mc...</td>\n",
       "      <td>Littering fines set to rise to £150</td>\n",
       "      <td>bbc</td>\n",
       "      <td>politics</td>\n",
       "      <td>{'$date': '2016-01-02T04:28:41.000+0000'}</td>\n",
       "      <td>{'$date': '2016-01-02T04:47:52.000+0000'}</td>\n",
       "      <td>en</td>\n",
       "      <td>[http://www.telegraph.co.uk/news/politics/1206...</td>\n",
       "      <td>Penalties for people who drop litter could rea...</td>\n",
       "      <td>According to the Daily Telegraph, the minimum ...</td>\n",
       "      <td>Penalties for people who drop litter could rea...</td>\n",
       "      <td>NaN</td>\n",
       "    </tr>\n",
       "  </tbody>\n",
       "</table>\n",
       "</div>"
      ],
      "text/plain": [
       "      _id                                                url  \\\n",
       "0  197727  http://www.theguardian.com/housing-network/201...   \n",
       "1  197728  http://www.theguardian.com/commentisfree/2016/...   \n",
       "2  197995  http://www.theguardian.com/politics/2016/jan/0...   \n",
       "3  198038  http://www.bbc.co.uk/news/uk-scotland-35210821...   \n",
       "4  198046  http://www.bbc.co.uk/news/uk-35212696#sa-ns_mc...   \n",
       "\n",
       "                                               title      feed      type  \\\n",
       "0  Five steps to fixing the UK housing crisis in ...  guardian  politics   \n",
       "1  That’s enough assessments of 2015. It’s time t...  guardian  politics   \n",
       "2  The paperback memoirs of Miss Rice-Davies : ar...  guardian  politics   \n",
       "3              'Very drunk' patient numbers revealed       bbc  politics   \n",
       "4                Littering fines set to rise to £150       bbc  politics   \n",
       "\n",
       "                                         pub  \\\n",
       "0  {'$date': '2016-01-01T09:12:27.000+0000'}   \n",
       "1  {'$date': '2016-01-01T09:37:06.000+0000'}   \n",
       "2  {'$date': '2016-01-01T05:00:22.000+0000'}   \n",
       "3  {'$date': '2016-01-02T00:42:46.000+0000'}   \n",
       "4  {'$date': '2016-01-02T04:28:41.000+0000'}   \n",
       "\n",
       "                                         ret lang  \\\n",
       "0  {'$date': '2016-01-01T09:27:32.000+0000'}   en   \n",
       "1  {'$date': '2016-01-01T09:47:42.000+0000'}   en   \n",
       "2  {'$date': '2016-01-01T22:59:09.000+0000'}   en   \n",
       "3  {'$date': '2016-01-02T00:45:47.000+0000'}   en   \n",
       "4  {'$date': '2016-01-02T04:47:52.000+0000'}   en   \n",
       "\n",
       "                                                refs  \\\n",
       "0  [http://www.theguardian.com/commentisfree/2015...   \n",
       "1  [http://www.theguardian.com/business/davos, ht...   \n",
       "2  [http://www.theguardian.com/politics/2014/dec/...   \n",
       "3   [http://www.bbc.co.uk/news/uk-scotland-35097230]   \n",
       "4  [http://www.telegraph.co.uk/news/politics/1206...   \n",
       "\n",
       "                                                 sum  \\\n",
       "0  Headlines about the utter madness of our housi...   \n",
       "1  From Strictly Come Dancing featuring Vladimir ...   \n",
       "2  1 January 1964 : The Mandy Report turns out to...   \n",
       "3  Ambulances attend more than 60 incidents on av...   \n",
       "4  Penalties for people who drop litter could rea...   \n",
       "\n",
       "                                                body  \\\n",
       "0  Perhaps in years to come 2015 will be remember...   \n",
       "1  • Jeremy Corbyn turns down invitation to atten...   \n",
       "2  Miss Mandy Rice-Davies, one of 1963’s better k...   \n",
       "3  Paramedics treated about 12,000 people who wer...   \n",
       "4  According to the Daily Telegraph, the minimum ...   \n",
       "\n",
       "                                                text auth  \n",
       "0  Headlines about the utter madness of our housi...  NaN  \n",
       "1  From Strictly Come Dancing featuring Vladimir ...  NaN  \n",
       "2  1 January 1964 : The Mandy Report turns out to...  NaN  \n",
       "3  Ambulances attend more than 60 incidents on av...  NaN  \n",
       "4  Penalties for people who drop litter could rea...  NaN  "
      ]
     },
     "execution_count": 4,
     "metadata": {},
     "output_type": "execute_result"
    }
   ],
   "source": [
    "df.head()"
   ]
  },
  {
   "cell_type": "code",
   "execution_count": 5,
   "id": "7a5dab89-d79a-4075-908b-e4e63e05d3ed",
   "metadata": {
    "tags": []
   },
   "outputs": [
    {
     "data": {
      "text/plain": [
       "60795"
      ]
     },
     "execution_count": 5,
     "metadata": {},
     "output_type": "execute_result"
    }
   ],
   "source": [
    "len(df)"
   ]
  },
  {
   "cell_type": "code",
   "execution_count": 6,
   "id": "6a7cacc7-67d4-408b-bac4-59c2ba3cbbfe",
   "metadata": {
    "tags": []
   },
   "outputs": [
    {
     "data": {
      "text/plain": [
       "'Five steps to fixing the UK housing crisis in 2016'"
      ]
     },
     "execution_count": 6,
     "metadata": {},
     "output_type": "execute_result"
    }
   ],
   "source": [
    "df.iloc[0].title"
   ]
  },
  {
   "cell_type": "code",
   "execution_count": 7,
   "id": "94d374a4-dda3-4eda-a9fd-79d642e708ee",
   "metadata": {
    "tags": []
   },
   "outputs": [
    {
     "data": {
      "text/plain": [
       "'Headlines about the utter madness of our housing market dominated 2015. It’s time to make some new year’s resolutions'"
      ]
     },
     "execution_count": 7,
     "metadata": {},
     "output_type": "execute_result"
    }
   ],
   "source": [
    "df.iloc[0][\"sum\"]"
   ]
  },
  {
   "cell_type": "code",
   "execution_count": 8,
   "id": "0fb39afb-35b9-4843-b4d1-ce7058e9aec2",
   "metadata": {
    "tags": []
   },
   "outputs": [
    {
     "data": {
      "text/plain": [
       "'Perhaps in years to come 2015 will be remembered as the year the housing crisis went mainstream. My fellow housing and economics journalists have been wailing like Cassandra for years now, but last year, it was rare to flip through a newspaper without seeing a headline addressing the utter madness of the UK’s housing market. Right to buy was extended, house prices in the south-east and London rocketed, footballers became unlikely champions of homeless campaigns and eviction rates soared. But a new year is an opportunity for a fresh start; here are five new year’s resolutions for Britain’s housing crisis.\\nRelated: 2015 in housing: 12 months of growing crisis\\nThe market is capricious, and not designed to provide for households that struggle to provide for themselves. If the state functions as a safety net, it can’t overlook housing. But rather than accept that municipal housing, run by councils or housing associations, is a necessary and prudent investment that prevents far more costly homelessness, the government has focused on private home ownership that only benefits the already comfortable. In many parts of the country affordable homes to rent or buy are unavailable. The housing market that profits is barely regulated and continues to reap the rewards of the wholesale flogging of council housing.\\nIt is a wonder that some people still back the bedroom tax. A few days before Christmas, the Conservatives sneaked out a report on the impact of the penalty. Three out of four people paying rent deductions for “over-occupation” reported cutting back on food; almost half had cut back on heating their home; a mere one in nine had successfully found somewhere smaller to move to, escaping the tax. Evidence-based policy isn’t the Conservatives’ strong point and this idea was particularly heavy on ideology and low on actual insight. In the areas where social housing tenants are most likely to have extra bedrooms, the industrial north and south Wales, there simply aren’t many small homes – but plenty of family homes. With lower house prices, there’s no impetus to build properties to downsize into. The result? Either households starve and stay, or they move into the more expensive private sector, costing the state more in housing benefit in the long term.\\nThe rights of those paying chunks of their income to landlords rather than towards a mortgage have largely been ignored by the current government. Last year, 352,000 renters were threatened with eviction, according to Shelter – one person every 90 seconds. I long ago lost count of the number of people emailing me with horror stories about landlords leaving mould, damp and pest infestations unchecked because there are so few penalties for bad landlords, and the decimation of legal aid and council budgets has weakened environmental health laws. More people would be happy to rent if conditions were better and fairer.\\nStreet homelessness, especially at Christmas, is often in the headlines for obvious reasons: it is both visible and a concrete manifestation of the complete failure of the state to protect its citizens. But the number of families in temporary accommodation and bed and breakfasts has risen dramatically in recent years, just as street homelessness has, with 100,000 children facing a Christmas in temporary accommodation last year.\\nThese policies are more similar than they might appear: by helping a small number of people, they further inflate the housing market – using state money. In the long term, selling off social housing at a heavy discount and over-inflating prices on new-build properties while helping people take a step on to a rung of an increasingly precarious housing ladder hurts more people than it helps. There are better uses of government money than propping up home ownership when the market is so over-valued: building social housing pays for itself in the long term, helping people flip houses for a profit does not.\\nA focus on these issues in 2016, rather than casting them to the wayside before the end of January like a gym membership card and nicotine patches, could have a huge impact on the level of suffering being caused by the housing crisis. Ignoring them could hasten a housing crash, and cement this period as a moment of extreme economic and political stupidity in the face of all available evidence. Still, perhaps next year I’ll wish for a land value tax, as well.\\nSign up for your free Guardian Housing network newsletter with news and analysis sent direct to you every Friday. Follow us: @GuardianHousing\\n'"
      ]
     },
     "execution_count": 8,
     "metadata": {},
     "output_type": "execute_result"
    }
   ],
   "source": [
    "df.iloc[0][\"body\"]"
   ]
  },
  {
   "cell_type": "code",
   "execution_count": 9,
   "id": "4ed4b4ca-b8e4-458c-81b4-e994575982ab",
   "metadata": {
    "tags": []
   },
   "outputs": [
    {
     "data": {
      "text/plain": [
       "767"
      ]
     },
     "execution_count": 9,
     "metadata": {},
     "output_type": "execute_result"
    }
   ],
   "source": [
    "len(df.iloc[0][\"text\"].split())"
   ]
  },
  {
   "cell_type": "code",
   "execution_count": 24,
   "id": "20aea1cb-e1ef-4e45-9f10-4358bd6a7c61",
   "metadata": {
    "tags": []
   },
   "outputs": [],
   "source": [
    "texts = [doc for doc in df[\"text\"]]"
   ]
  },
  {
   "cell_type": "code",
   "execution_count": 25,
   "id": "57c49b06-3581-40fd-b7f8-4ea3fd209dd6",
   "metadata": {
    "tags": []
   },
   "outputs": [
    {
     "data": {
      "text/plain": [
       "\"From Strictly Come Dancing featuring Vladimir Putin to the Queen’s 90th birthday extravaganza and Jeremy Corbyn’s fourth reshuffle, here’s how 2016 panned out\\n\\n \\n\\n• Jeremy Corbyn turns down invitation to attend Davos, saying he will be oiling his bicycle that week.\\n• Sir Robert Owen publishes the report of his inquiry into the death of Alexander Litvinenko. Blames Russia. Russia declares war. Owen report is immediately withdrawn, and Sir John Chilcot asked to re-examine the evidence. Report on the alleged poisoning of Litvinenko now expected in 2027.\\nRelated: Delicate but pivotal: Iran's factional politics explained\\n• Mosima Sexwale, the flamboyant South African businessman more widely known as Tokyo Sexwale, becomes president of Fifa, narrowly beating the French diplomat Jérôme Champagne. Delegates decide the vote on the basis of who has the silliest name.\\n• Adele makes a three-hour speech at the Brit awards. Everything Everything win everything.\\n• Parliamentary elections in Iran see heavy losses for the Liberal Democrats.\\n• Cate Blanchett wins her annual Oscar. Award for the best foreign-language film goes to the epic Japanese coming-of-age saga Tokyo Sexwale.\\n• Hillary Clinton seals the Democratic presidential nomination on Super Tuesday. Republican hopeful Donald Trump does well everywhere except Texas, where he is dismissed as too liberal.\\n• Tenth anniversary of first tweet marked with slew of articles bemoaning the decline of Twitter. “There are no characters lef”, complains one veteran tweeter.\\n• A horse wins the Cheltenham Gold Cup.\\n• Cambridge win the Boat Race. Or was it Oxford?\\n• The Queen’s 90th birthday is met with national rejoicing. Fearne Cotton, whose presentation of the Diamond Jubilee royal pageant was widely criticised (mainly by the Daily Telegraph), is not invited to commentate on the festivities at Windsor. Katherine Jenkins leads the singing of Happy Birthday, leading to immediate calls for Cotton to be reinstated.\\n• Another horse wins the Grand National.\\nRelated: Guardian profile: David Tennant, our favourite Doctor … his time has come\\n• David Tennant heads the cast for a celebrity event marking the 400th anniversary of the death of William Shakespeare. BBC director-general Tony Hall declares the corporation’s ambition is “to get more people excited about Shakespeare than ever before – through drama, great performance, documentary, festivals and social media”. Unfortunately a Twitter relay of Hamlet proves something of a damp squib. “When sorrows come, they come not single spies. But in battalions!,” thunders a leader column in the Times, castigating dumbing down at the BBC and calling for it to be privatised.\\n• Jeremy Corbyn announces his fourth reshuffle. The Telegraph dubs it the Night of the Long Bicycle Clips. Andy Burnham hangs on to his post as shadow minister of state for rugby league, arguing that party unity must be preserved at all costs.\\n• New series of Top Gear begins. Met with national rejoicing, except in Chipping Norton.\\n• The SNP wins every seat in the Scottish parliament. Jeremy Corbyn describes it as a minor setback in the battle to win back Scotland.\\n• Heavy Labour losses in local elections, but Sadiq Khan enjoys a narrow win over the Tories’ Zac Goldsmith in the London mayoral election. Liberal Democrats are squeezed into eighth place, just behind a bollard from Enfield standing as an independent.\\nRelated: The night Bob Dylan abandoned me at a petrol station\\n• Forty-one police and crime commissioners are elected, but no one is exactly sure why.\\n• Bob Dylan’s 75th birthday is met with global rejoicing.\\n• Much booing/applauding of good/bad/indifferent films at Cannes. A five-and-a-half-hour existential drama drawing on Peruvian peasant life wins the Palme d’Or. The chairman of the jury describes it as “the supreme achievement of Peruvian national cinema”.\\n• Estonian rock band Ultima Thule’s Mu isamaa, Õnne soovime sul wins the Eurovision song contest.\\n• End of the Premier League season sees Leicester crowned champions and Chelsea relegated. Jeremy Corbyn describes it as a minor setback for the managerless club.\\n• The 100th anniversary on 16 May of the Sykes-Picot agreement, by which the British and French carved up the Ottoman empire and ensured perpetual peace in the Middle East, is met with national rejoicing.\\n• Astronaut Tim Peake returns to Earth. He is immediately named as a contestant in the autumn series of Strictly Come Dancing, alongside Ed Balls, Fearne Cotton, José Mourinho, Katherine Jenkins, Tomasz Schafernaker, Vladimir Putin, Monsignor Bruce Kent, Baroness Mone, the bass player from Ultima Thule, Chris Robshaw, someone from EastEnders, someone else from Coronation Street, Oliver Letwin, a random boxer and Tokyo Sexwale.\\n• Albania are surprise winners of the European football championships. England fail to progress beyond the group stage. Jeremy Corbyn describes the 8-0 loss to Slovakia that seals their fate as a minor setback.\\nRelated: The UK’s airports conundrum requires joined-up thinking | Letters\\n• The government postpones the decision on expanding airport capacity in the south-east, and says Sir John Chilcot will undertake a fresh examination of the options. His report is expected in 2034.\\n• The Duke of Edinburgh’s 95th birthday is met with national rejoicing. (Will any readers left at this point please add the obligatory reference to Fearne Cotton and Katherine Jenkins?)\\n• The £200m Tate Modern extension is opened to national caterwauling. Prince Charles denounces it as a “monstrous carbuncle”.\\n• The Dalai Lama is the star turn at the Glastonbury festival, playing the Tibetan horn alongside Ultima Thule and Everything Everything.\\n• Sir John Chilcot says he has so many other inquiries on his plate that his original inquiry into the Iraq war will be further delayed, and that he now expects to complete it by 2042.\\n• Slovakia, fresh from that 8-0 win over England, assumes the presidency of the European council. David Cameron is so annoyed he announces the EU referendum will be a week on Thursday, backing down only when he discovers it would clash with the first day of the Lord’s Test.\\n• Donald Trump is nominated as Republican presidential candidate at the party’s convention in Cleveland. Comedians around the world celebrate. Everyone else lays in supplies of survival rations.\\nRelated: Rio Olympics: public scepticism persists as preparations approach final lap\\n• Britain performs disappointingly in the Rio Olympics, though it does sweep the board in the small-bore shooting events. “We are now a nation of small bores,” quips David Cameron. Jeremy Corbyn calls the UK’s 63rd place in the medal table – below Estonia, Albania, Slovakia and Peru – a minor setback.\\n• The Edinburgh festival proves to be another triumph for small bores.\\n• Other than the Olympics and the Edinburgh festival, not much happens in August, give or take the odd war, famine, pestilence and plague of frogs, which everyone overlooks because they’re on holiday.\\n• Elections for the Russian State Duma. Liberal Democrats do badly.\\n• Jeremy Corbyn is ousted after a vote of no confidence at the Labour party’s annual conference in Liverpool. Describes it as a minor setback. Angela Eagle – or possibly her sister – becomes leader.\\n• David Cameron announces at the Conservative party conference in Birmingham that he does not intend to step down before the next election but will “go on and on”. Boris Johnson falls off the stage.\\n• On the 950th anniversary of the Battle of Hastings the defence secretary, Michael Fallon, asks Sir John Chilcot to examine the reasons for the English defeat at the hands of the Normans. Chilcot says he is confident of reporting by 2066.\\n• Hillary Clinton wins the US presidency. Phew!\\n• Strictly Come Dancing is won by someone from EastEnders, narrowly beating someone else from Coronation Street and the random boxer in the final. There are rumours that Donald Trump will star in the show in 2017. And possibly Sir John Chilcot – if he can find the time.\\n\""
      ]
     },
     "execution_count": 25,
     "metadata": {},
     "output_type": "execute_result"
    }
   ],
   "source": [
    "texts[1]"
   ]
  },
  {
   "cell_type": "code",
   "execution_count": 12,
   "id": "3229c8b9-95e9-4b17-9a65-c794fe51de05",
   "metadata": {},
   "outputs": [
    {
     "data": {
      "text/plain": [
       "(31, 650.558105107328, 3636)"
      ]
     },
     "execution_count": 12,
     "metadata": {},
     "output_type": "execute_result"
    }
   ],
   "source": [
    "lengths = [len(doc.split()) for doc in df[\"text\"]]\n",
    "min(lengths), np.mean(lengths), max(lengths)"
   ]
  },
  {
   "cell_type": "code",
   "execution_count": null,
   "id": "e06d6f1b-1963-4def-9f72-dc9c237259fb",
   "metadata": {},
   "outputs": [],
   "source": []
  },
  {
   "cell_type": "code",
   "execution_count": 27,
   "id": "0592f5f9-2b03-4122-92ff-7aedfab0feab",
   "metadata": {
    "tags": []
   },
   "outputs": [],
   "source": [
    "from langchain.text_splitter import RecursiveCharacterTextSplitter\n",
    "from langchain.docstore.document import Document"
   ]
  },
  {
   "cell_type": "code",
   "execution_count": 18,
   "id": "1ce3012a-83af-4697-a492-0680c8edf8d9",
   "metadata": {
    "tags": []
   },
   "outputs": [],
   "source": [
    "splitter = RecursiveCharacterTextSplitter(chunk_size=2000, chunk_overlap=200)"
   ]
  },
  {
   "cell_type": "code",
   "execution_count": 32,
   "id": "11be1bdc-dcac-4957-bf81-1407924de5c9",
   "metadata": {
    "tags": []
   },
   "outputs": [],
   "source": [
    "doc = Document(page_content=texts[1])\n",
    "\n",
    "splits = splitter.split_documents([doc])"
   ]
  },
  {
   "cell_type": "code",
   "execution_count": 34,
   "id": "fcd2249c-8367-419c-8184-6c24f7417df8",
   "metadata": {
    "tags": []
   },
   "outputs": [
    {
     "data": {
      "text/plain": [
       "{}"
      ]
     },
     "execution_count": 34,
     "metadata": {},
     "output_type": "execute_result"
    }
   ],
   "source": [
    "doc.metadata"
   ]
  },
  {
   "cell_type": "code",
   "execution_count": 33,
   "id": "4419e1fa-cd04-4e8e-bd7c-5df1438b6ad6",
   "metadata": {
    "tags": []
   },
   "outputs": [
    {
     "data": {
      "text/plain": [
       "[Document(page_content='From Strictly Come Dancing featuring Vladimir Putin to the Queen’s 90th birthday extravaganza and Jeremy Corbyn’s fourth reshuffle, here’s how 2016 panned out'),\n",
       " Document(page_content=\"• Jeremy Corbyn turns down invitation to attend Davos, saying he will be oiling his bicycle that week.\\n• Sir Robert Owen publishes the report of his inquiry into the death of Alexander Litvinenko. Blames Russia. Russia declares war. Owen report is immediately withdrawn, and Sir John Chilcot asked to re-examine the evidence. Report on the alleged poisoning of Litvinenko now expected in 2027.\\nRelated: Delicate but pivotal: Iran's factional politics explained\\n• Mosima Sexwale, the flamboyant South African businessman more widely known as Tokyo Sexwale, becomes president of Fifa, narrowly beating the French diplomat Jérôme Champagne. Delegates decide the vote on the basis of who has the silliest name.\\n• Adele makes a three-hour speech at the Brit awards. Everything Everything win everything.\\n• Parliamentary elections in Iran see heavy losses for the Liberal Democrats.\\n• Cate Blanchett wins her annual Oscar. Award for the best foreign-language film goes to the epic Japanese coming-of-age saga Tokyo Sexwale.\\n• Hillary Clinton seals the Democratic presidential nomination on Super Tuesday. Republican hopeful Donald Trump does well everywhere except Texas, where he is dismissed as too liberal.\\n• Tenth anniversary of first tweet marked with slew of articles bemoaning the decline of Twitter. “There are no characters lef”, complains one veteran tweeter.\\n• A horse wins the Cheltenham Gold Cup.\\n• Cambridge win the Boat Race. Or was it Oxford?\\n• The Queen’s 90th birthday is met with national rejoicing. Fearne Cotton, whose presentation of the Diamond Jubilee royal pageant was widely criticised (mainly by the Daily Telegraph), is not invited to commentate on the festivities at Windsor. Katherine Jenkins leads the singing of Happy Birthday, leading to immediate calls for Cotton to be reinstated.\\n• Another horse wins the Grand National.\\nRelated: Guardian profile: David Tennant, our favourite Doctor … his time has come\"),\n",
       " Document(page_content='• Another horse wins the Grand National.\\nRelated: Guardian profile: David Tennant, our favourite Doctor … his time has come\\n• David Tennant heads the cast for a celebrity event marking the 400th anniversary of the death of William Shakespeare. BBC director-general Tony Hall declares the corporation’s ambition is “to get more people excited about Shakespeare than ever before – through drama, great performance, documentary, festivals and social media”. Unfortunately a Twitter relay of Hamlet proves something of a damp squib. “When sorrows come, they come not single spies. But in battalions!,” thunders a leader column in the Times, castigating dumbing down at the BBC and calling for it to be privatised.\\n• Jeremy Corbyn announces his fourth reshuffle. The Telegraph dubs it the Night of the Long Bicycle Clips. Andy Burnham hangs on to his post as shadow minister of state for rugby league, arguing that party unity must be preserved at all costs.\\n• New series of Top Gear begins. Met with national rejoicing, except in Chipping Norton.\\n• The SNP wins every seat in the Scottish parliament. Jeremy Corbyn describes it as a minor setback in the battle to win back Scotland.\\n• Heavy Labour losses in local elections, but Sadiq Khan enjoys a narrow win over the Tories’ Zac Goldsmith in the London mayoral election. Liberal Democrats are squeezed into eighth place, just behind a bollard from Enfield standing as an independent.\\nRelated: The night Bob Dylan abandoned me at a petrol station\\n• Forty-one police and crime commissioners are elected, but no one is exactly sure why.\\n• Bob Dylan’s 75th birthday is met with global rejoicing.\\n• Much booing/applauding of good/bad/indifferent films at Cannes. A five-and-a-half-hour existential drama drawing on Peruvian peasant life wins the Palme d’Or. The chairman of the jury describes it as “the supreme achievement of Peruvian national cinema”.\\n• Estonian rock band Ultima Thule’s Mu isamaa, Õnne soovime sul wins the Eurovision song contest.'),\n",
       " Document(page_content='• Estonian rock band Ultima Thule’s Mu isamaa, Õnne soovime sul wins the Eurovision song contest.\\n• End of the Premier League season sees Leicester crowned champions and Chelsea relegated. Jeremy Corbyn describes it as a minor setback for the managerless club.\\n• The 100th anniversary on 16 May of the Sykes-Picot agreement, by which the British and French carved up the Ottoman empire and ensured perpetual peace in the Middle East, is met with national rejoicing.\\n• Astronaut Tim Peake returns to Earth. He is immediately named as a contestant in the autumn series of Strictly Come Dancing, alongside Ed Balls, Fearne Cotton, José Mourinho, Katherine Jenkins, Tomasz Schafernaker, Vladimir Putin, Monsignor Bruce Kent, Baroness Mone, the bass player from Ultima Thule, Chris Robshaw, someone from EastEnders, someone else from Coronation Street, Oliver Letwin, a random boxer and Tokyo Sexwale.\\n• Albania are surprise winners of the European football championships. England fail to progress beyond the group stage. Jeremy Corbyn describes the 8-0 loss to Slovakia that seals their fate as a minor setback.\\nRelated: The UK’s airports conundrum requires joined-up thinking | Letters\\n• The government postpones the decision on expanding airport capacity in the south-east, and says Sir John Chilcot will undertake a fresh examination of the options. His report is expected in 2034.\\n• The Duke of Edinburgh’s 95th birthday is met with national rejoicing. (Will any readers left at this point please add the obligatory reference to Fearne Cotton and Katherine Jenkins?)\\n• The £200m Tate Modern extension is opened to national caterwauling. Prince Charles denounces it as a “monstrous carbuncle”.\\n• The Dalai Lama is the star turn at the Glastonbury festival, playing the Tibetan horn alongside Ultima Thule and Everything Everything.'),\n",
       " Document(page_content='• The Dalai Lama is the star turn at the Glastonbury festival, playing the Tibetan horn alongside Ultima Thule and Everything Everything.\\n• Sir John Chilcot says he has so many other inquiries on his plate that his original inquiry into the Iraq war will be further delayed, and that he now expects to complete it by 2042.\\n• Slovakia, fresh from that 8-0 win over England, assumes the presidency of the European council. David Cameron is so annoyed he announces the EU referendum will be a week on Thursday, backing down only when he discovers it would clash with the first day of the Lord’s Test.\\n• Donald Trump is nominated as Republican presidential candidate at the party’s convention in Cleveland. Comedians around the world celebrate. Everyone else lays in supplies of survival rations.\\nRelated: Rio Olympics: public scepticism persists as preparations approach final lap\\n• Britain performs disappointingly in the Rio Olympics, though it does sweep the board in the small-bore shooting events. “We are now a nation of small bores,” quips David Cameron. Jeremy Corbyn calls the UK’s 63rd place in the medal table – below Estonia, Albania, Slovakia and Peru – a minor setback.\\n• The Edinburgh festival proves to be another triumph for small bores.\\n• Other than the Olympics and the Edinburgh festival, not much happens in August, give or take the odd war, famine, pestilence and plague of frogs, which everyone overlooks because they’re on holiday.\\n• Elections for the Russian State Duma. Liberal Democrats do badly.\\n• Jeremy Corbyn is ousted after a vote of no confidence at the Labour party’s annual conference in Liverpool. Describes it as a minor setback. Angela Eagle – or possibly her sister – becomes leader.\\n• David Cameron announces at the Conservative party conference in Birmingham that he does not intend to step down before the next election but will “go on and on”. Boris Johnson falls off the stage.'),\n",
       " Document(page_content='• David Cameron announces at the Conservative party conference in Birmingham that he does not intend to step down before the next election but will “go on and on”. Boris Johnson falls off the stage.\\n• On the 950th anniversary of the Battle of Hastings the defence secretary, Michael Fallon, asks Sir John Chilcot to examine the reasons for the English defeat at the hands of the Normans. Chilcot says he is confident of reporting by 2066.\\n• Hillary Clinton wins the US presidency. Phew!\\n• Strictly Come Dancing is won by someone from EastEnders, narrowly beating someone else from Coronation Street and the random boxer in the final. There are rumours that Donald Trump will star in the show in 2017. And possibly Sir John Chilcot – if he can find the time.')]"
      ]
     },
     "execution_count": 33,
     "metadata": {},
     "output_type": "execute_result"
    }
   ],
   "source": [
    "splits"
   ]
  },
  {
   "cell_type": "code",
   "execution_count": null,
   "id": "41747b1d-72b6-4e22-ab2e-745d4da7c574",
   "metadata": {},
   "outputs": [],
   "source": []
  }
 ],
 "metadata": {
  "kernelspec": {
   "display_name": "Python 3.11",
   "language": "python",
   "name": "3.11"
  },
  "language_info": {
   "codemirror_mode": {
    "name": "ipython",
    "version": 3
   },
   "file_extension": ".py",
   "mimetype": "text/x-python",
   "name": "python",
   "nbconvert_exporter": "python",
   "pygments_lexer": "ipython3",
   "version": "3.11.3"
  }
 },
 "nbformat": 4,
 "nbformat_minor": 5
}
