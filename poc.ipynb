{
 "cells": [
  {
   "cell_type": "code",
   "execution_count": 10,
   "id": "ac2a76ca-ed3c-4391-8dcc-a7cb900fe66a",
   "metadata": {
    "tags": []
   },
   "outputs": [],
   "source": [
    "import pandas as pd"
   ]
  },
  {
   "cell_type": "code",
   "execution_count": 11,
   "id": "cceee0c4-8f5a-47a2-9d33-cab8acb0e16c",
   "metadata": {
    "tags": []
   },
   "outputs": [],
   "source": [
    "df = pd.read_json(\"/home/peeranat/datasets/archive/relevant_articles.json\")"
   ]
  },
  {
   "cell_type": "code",
   "execution_count": 12,
   "id": "14987a82-3b58-4fde-ad56-ebfde841fca6",
   "metadata": {
    "tags": []
   },
   "outputs": [
    {
     "data": {
      "text/html": [
       "<div>\n",
       "<style scoped>\n",
       "    .dataframe tbody tr th:only-of-type {\n",
       "        vertical-align: middle;\n",
       "    }\n",
       "\n",
       "    .dataframe tbody tr th {\n",
       "        vertical-align: top;\n",
       "    }\n",
       "\n",
       "    .dataframe thead th {\n",
       "        text-align: right;\n",
       "    }\n",
       "</style>\n",
       "<table border=\"1\" class=\"dataframe\">\n",
       "  <thead>\n",
       "    <tr style=\"text-align: right;\">\n",
       "      <th></th>\n",
       "      <th>_id</th>\n",
       "      <th>url</th>\n",
       "      <th>title</th>\n",
       "      <th>feed</th>\n",
       "      <th>type</th>\n",
       "      <th>pub</th>\n",
       "      <th>ret</th>\n",
       "      <th>lang</th>\n",
       "      <th>refs</th>\n",
       "      <th>sum</th>\n",
       "      <th>body</th>\n",
       "      <th>text</th>\n",
       "      <th>auth</th>\n",
       "    </tr>\n",
       "  </thead>\n",
       "  <tbody>\n",
       "    <tr>\n",
       "      <th>0</th>\n",
       "      <td>197727</td>\n",
       "      <td>http://www.theguardian.com/housing-network/201...</td>\n",
       "      <td>Five steps to fixing the UK housing crisis in ...</td>\n",
       "      <td>guardian</td>\n",
       "      <td>politics</td>\n",
       "      <td>{'$date': '2016-01-01T09:12:27.000+0000'}</td>\n",
       "      <td>{'$date': '2016-01-01T09:27:32.000+0000'}</td>\n",
       "      <td>en</td>\n",
       "      <td>[http://www.theguardian.com/commentisfree/2015...</td>\n",
       "      <td>Headlines about the utter madness of our housi...</td>\n",
       "      <td>Perhaps in years to come 2015 will be remember...</td>\n",
       "      <td>Headlines about the utter madness of our housi...</td>\n",
       "      <td>NaN</td>\n",
       "    </tr>\n",
       "    <tr>\n",
       "      <th>1</th>\n",
       "      <td>197728</td>\n",
       "      <td>http://www.theguardian.com/commentisfree/2016/...</td>\n",
       "      <td>That’s enough assessments of 2015. It’s time t...</td>\n",
       "      <td>guardian</td>\n",
       "      <td>politics</td>\n",
       "      <td>{'$date': '2016-01-01T09:37:06.000+0000'}</td>\n",
       "      <td>{'$date': '2016-01-01T09:47:42.000+0000'}</td>\n",
       "      <td>en</td>\n",
       "      <td>[http://www.theguardian.com/business/davos, ht...</td>\n",
       "      <td>From Strictly Come Dancing featuring Vladimir ...</td>\n",
       "      <td>• Jeremy Corbyn turns down invitation to atten...</td>\n",
       "      <td>From Strictly Come Dancing featuring Vladimir ...</td>\n",
       "      <td>NaN</td>\n",
       "    </tr>\n",
       "    <tr>\n",
       "      <th>2</th>\n",
       "      <td>197995</td>\n",
       "      <td>http://www.theguardian.com/politics/2016/jan/0...</td>\n",
       "      <td>The paperback memoirs of Miss Rice-Davies : ar...</td>\n",
       "      <td>guardian</td>\n",
       "      <td>politics</td>\n",
       "      <td>{'$date': '2016-01-01T05:00:22.000+0000'}</td>\n",
       "      <td>{'$date': '2016-01-01T22:59:09.000+0000'}</td>\n",
       "      <td>en</td>\n",
       "      <td>[http://www.theguardian.com/politics/2014/dec/...</td>\n",
       "      <td>1 January 1964 : The Mandy Report turns out to...</td>\n",
       "      <td>Miss Mandy Rice-Davies, one of 1963’s better k...</td>\n",
       "      <td>1 January 1964 : The Mandy Report turns out to...</td>\n",
       "      <td>NaN</td>\n",
       "    </tr>\n",
       "    <tr>\n",
       "      <th>3</th>\n",
       "      <td>198038</td>\n",
       "      <td>http://www.bbc.co.uk/news/uk-scotland-35210821...</td>\n",
       "      <td>'Very drunk' patient numbers revealed</td>\n",
       "      <td>bbc</td>\n",
       "      <td>politics</td>\n",
       "      <td>{'$date': '2016-01-02T00:42:46.000+0000'}</td>\n",
       "      <td>{'$date': '2016-01-02T00:45:47.000+0000'}</td>\n",
       "      <td>en</td>\n",
       "      <td>[http://www.bbc.co.uk/news/uk-scotland-35097230]</td>\n",
       "      <td>Ambulances attend more than 60 incidents on av...</td>\n",
       "      <td>Paramedics treated about 12,000 people who wer...</td>\n",
       "      <td>Ambulances attend more than 60 incidents on av...</td>\n",
       "      <td>NaN</td>\n",
       "    </tr>\n",
       "    <tr>\n",
       "      <th>4</th>\n",
       "      <td>198046</td>\n",
       "      <td>http://www.bbc.co.uk/news/uk-35212696#sa-ns_mc...</td>\n",
       "      <td>Littering fines set to rise to £150</td>\n",
       "      <td>bbc</td>\n",
       "      <td>politics</td>\n",
       "      <td>{'$date': '2016-01-02T04:28:41.000+0000'}</td>\n",
       "      <td>{'$date': '2016-01-02T04:47:52.000+0000'}</td>\n",
       "      <td>en</td>\n",
       "      <td>[http://www.telegraph.co.uk/news/politics/1206...</td>\n",
       "      <td>Penalties for people who drop litter could rea...</td>\n",
       "      <td>According to the Daily Telegraph, the minimum ...</td>\n",
       "      <td>Penalties for people who drop litter could rea...</td>\n",
       "      <td>NaN</td>\n",
       "    </tr>\n",
       "  </tbody>\n",
       "</table>\n",
       "</div>"
      ],
      "text/plain": [
       "      _id                                                url  \\\n",
       "0  197727  http://www.theguardian.com/housing-network/201...   \n",
       "1  197728  http://www.theguardian.com/commentisfree/2016/...   \n",
       "2  197995  http://www.theguardian.com/politics/2016/jan/0...   \n",
       "3  198038  http://www.bbc.co.uk/news/uk-scotland-35210821...   \n",
       "4  198046  http://www.bbc.co.uk/news/uk-35212696#sa-ns_mc...   \n",
       "\n",
       "                                               title      feed      type  \\\n",
       "0  Five steps to fixing the UK housing crisis in ...  guardian  politics   \n",
       "1  That’s enough assessments of 2015. It’s time t...  guardian  politics   \n",
       "2  The paperback memoirs of Miss Rice-Davies : ar...  guardian  politics   \n",
       "3              'Very drunk' patient numbers revealed       bbc  politics   \n",
       "4                Littering fines set to rise to £150       bbc  politics   \n",
       "\n",
       "                                         pub  \\\n",
       "0  {'$date': '2016-01-01T09:12:27.000+0000'}   \n",
       "1  {'$date': '2016-01-01T09:37:06.000+0000'}   \n",
       "2  {'$date': '2016-01-01T05:00:22.000+0000'}   \n",
       "3  {'$date': '2016-01-02T00:42:46.000+0000'}   \n",
       "4  {'$date': '2016-01-02T04:28:41.000+0000'}   \n",
       "\n",
       "                                         ret lang  \\\n",
       "0  {'$date': '2016-01-01T09:27:32.000+0000'}   en   \n",
       "1  {'$date': '2016-01-01T09:47:42.000+0000'}   en   \n",
       "2  {'$date': '2016-01-01T22:59:09.000+0000'}   en   \n",
       "3  {'$date': '2016-01-02T00:45:47.000+0000'}   en   \n",
       "4  {'$date': '2016-01-02T04:47:52.000+0000'}   en   \n",
       "\n",
       "                                                refs  \\\n",
       "0  [http://www.theguardian.com/commentisfree/2015...   \n",
       "1  [http://www.theguardian.com/business/davos, ht...   \n",
       "2  [http://www.theguardian.com/politics/2014/dec/...   \n",
       "3   [http://www.bbc.co.uk/news/uk-scotland-35097230]   \n",
       "4  [http://www.telegraph.co.uk/news/politics/1206...   \n",
       "\n",
       "                                                 sum  \\\n",
       "0  Headlines about the utter madness of our housi...   \n",
       "1  From Strictly Come Dancing featuring Vladimir ...   \n",
       "2  1 January 1964 : The Mandy Report turns out to...   \n",
       "3  Ambulances attend more than 60 incidents on av...   \n",
       "4  Penalties for people who drop litter could rea...   \n",
       "\n",
       "                                                body  \\\n",
       "0  Perhaps in years to come 2015 will be remember...   \n",
       "1  • Jeremy Corbyn turns down invitation to atten...   \n",
       "2  Miss Mandy Rice-Davies, one of 1963’s better k...   \n",
       "3  Paramedics treated about 12,000 people who wer...   \n",
       "4  According to the Daily Telegraph, the minimum ...   \n",
       "\n",
       "                                                text auth  \n",
       "0  Headlines about the utter madness of our housi...  NaN  \n",
       "1  From Strictly Come Dancing featuring Vladimir ...  NaN  \n",
       "2  1 January 1964 : The Mandy Report turns out to...  NaN  \n",
       "3  Ambulances attend more than 60 incidents on av...  NaN  \n",
       "4  Penalties for people who drop litter could rea...  NaN  "
      ]
     },
     "execution_count": 12,
     "metadata": {},
     "output_type": "execute_result"
    }
   ],
   "source": [
    "df.head()"
   ]
  },
  {
   "cell_type": "code",
   "execution_count": 19,
   "id": "7a5dab89-d79a-4075-908b-e4e63e05d3ed",
   "metadata": {
    "tags": []
   },
   "outputs": [
    {
     "data": {
      "text/plain": [
       "60795"
      ]
     },
     "execution_count": 19,
     "metadata": {},
     "output_type": "execute_result"
    }
   ],
   "source": [
    "len(df)"
   ]
  },
  {
   "cell_type": "code",
   "execution_count": 14,
   "id": "6a7cacc7-67d4-408b-bac4-59c2ba3cbbfe",
   "metadata": {
    "tags": []
   },
   "outputs": [
    {
     "data": {
      "text/plain": [
       "'Five steps to fixing the UK housing crisis in 2016'"
      ]
     },
     "execution_count": 14,
     "metadata": {},
     "output_type": "execute_result"
    }
   ],
   "source": [
    "df.iloc[0].title"
   ]
  },
  {
   "cell_type": "code",
   "execution_count": 16,
   "id": "94d374a4-dda3-4eda-a9fd-79d642e708ee",
   "metadata": {
    "tags": []
   },
   "outputs": [
    {
     "data": {
      "text/plain": [
       "'Headlines about the utter madness of our housing market dominated 2015. It’s time to make some new year’s resolutions'"
      ]
     },
     "execution_count": 16,
     "metadata": {},
     "output_type": "execute_result"
    }
   ],
   "source": [
    "df.iloc[0][\"sum\"]"
   ]
  },
  {
   "cell_type": "code",
   "execution_count": 17,
   "id": "0fb39afb-35b9-4843-b4d1-ce7058e9aec2",
   "metadata": {
    "tags": []
   },
   "outputs": [
    {
     "data": {
      "text/plain": [
       "'Perhaps in years to come 2015 will be remembered as the year the housing crisis went mainstream. My fellow housing and economics journalists have been wailing like Cassandra for years now, but last year, it was rare to flip through a newspaper without seeing a headline addressing the utter madness of the UK’s housing market. Right to buy was extended, house prices in the south-east and London rocketed, footballers became unlikely champions of homeless campaigns and eviction rates soared. But a new year is an opportunity for a fresh start; here are five new year’s resolutions for Britain’s housing crisis.\\nRelated: 2015 in housing: 12 months of growing crisis\\nThe market is capricious, and not designed to provide for households that struggle to provide for themselves. If the state functions as a safety net, it can’t overlook housing. But rather than accept that municipal housing, run by councils or housing associations, is a necessary and prudent investment that prevents far more costly homelessness, the government has focused on private home ownership that only benefits the already comfortable. In many parts of the country affordable homes to rent or buy are unavailable. The housing market that profits is barely regulated and continues to reap the rewards of the wholesale flogging of council housing.\\nIt is a wonder that some people still back the bedroom tax. A few days before Christmas, the Conservatives sneaked out a report on the impact of the penalty. Three out of four people paying rent deductions for “over-occupation” reported cutting back on food; almost half had cut back on heating their home; a mere one in nine had successfully found somewhere smaller to move to, escaping the tax. Evidence-based policy isn’t the Conservatives’ strong point and this idea was particularly heavy on ideology and low on actual insight. In the areas where social housing tenants are most likely to have extra bedrooms, the industrial north and south Wales, there simply aren’t many small homes – but plenty of family homes. With lower house prices, there’s no impetus to build properties to downsize into. The result? Either households starve and stay, or they move into the more expensive private sector, costing the state more in housing benefit in the long term.\\nThe rights of those paying chunks of their income to landlords rather than towards a mortgage have largely been ignored by the current government. Last year, 352,000 renters were threatened with eviction, according to Shelter – one person every 90 seconds. I long ago lost count of the number of people emailing me with horror stories about landlords leaving mould, damp and pest infestations unchecked because there are so few penalties for bad landlords, and the decimation of legal aid and council budgets has weakened environmental health laws. More people would be happy to rent if conditions were better and fairer.\\nStreet homelessness, especially at Christmas, is often in the headlines for obvious reasons: it is both visible and a concrete manifestation of the complete failure of the state to protect its citizens. But the number of families in temporary accommodation and bed and breakfasts has risen dramatically in recent years, just as street homelessness has, with 100,000 children facing a Christmas in temporary accommodation last year.\\nThese policies are more similar than they might appear: by helping a small number of people, they further inflate the housing market – using state money. In the long term, selling off social housing at a heavy discount and over-inflating prices on new-build properties while helping people take a step on to a rung of an increasingly precarious housing ladder hurts more people than it helps. There are better uses of government money than propping up home ownership when the market is so over-valued: building social housing pays for itself in the long term, helping people flip houses for a profit does not.\\nA focus on these issues in 2016, rather than casting them to the wayside before the end of January like a gym membership card and nicotine patches, could have a huge impact on the level of suffering being caused by the housing crisis. Ignoring them could hasten a housing crash, and cement this period as a moment of extreme economic and political stupidity in the face of all available evidence. Still, perhaps next year I’ll wish for a land value tax, as well.\\nSign up for your free Guardian Housing network newsletter with news and analysis sent direct to you every Friday. Follow us: @GuardianHousing\\n'"
      ]
     },
     "execution_count": 17,
     "metadata": {},
     "output_type": "execute_result"
    }
   ],
   "source": [
    "df.iloc[0][\"body\"]"
   ]
  },
  {
   "cell_type": "code",
   "execution_count": 20,
   "id": "4ed4b4ca-b8e4-458c-81b4-e994575982ab",
   "metadata": {
    "tags": []
   },
   "outputs": [
    {
     "data": {
      "text/plain": [
       "767"
      ]
     },
     "execution_count": 20,
     "metadata": {},
     "output_type": "execute_result"
    }
   ],
   "source": [
    "len(df.iloc[0][\"text\"].split())"
   ]
  },
  {
   "cell_type": "code",
   "execution_count": null,
   "id": "3229c8b9-95e9-4b17-9a65-c794fe51de05",
   "metadata": {},
   "outputs": [],
   "source": []
  }
 ],
 "metadata": {
  "kernelspec": {
   "display_name": "Python 3.11",
   "language": "python",
   "name": "3.11"
  },
  "language_info": {
   "codemirror_mode": {
    "name": "ipython",
    "version": 3
   },
   "file_extension": ".py",
   "mimetype": "text/x-python",
   "name": "python",
   "nbconvert_exporter": "python",
   "pygments_lexer": "ipython3",
   "version": "3.11.3"
  }
 },
 "nbformat": 4,
 "nbformat_minor": 5
}
